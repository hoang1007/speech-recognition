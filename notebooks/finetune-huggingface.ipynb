{
 "cells": [
  {
   "attachments": {},
   "cell_type": "markdown",
   "metadata": {},
   "source": [
    "# Load pretrained model"
   ]
  },
  {
   "cell_type": "code",
   "execution_count": 1,
   "metadata": {},
   "outputs": [
    {
     "name": "stderr",
     "output_type": "stream",
     "text": [
      "Special tokens have been added in the vocabulary, make sure the associated word embeddings are fine-tuned or trained.\n",
      "/home/hoang/.local/lib/python3.10/site-packages/transformers/configuration_utils.py:369: UserWarning: Passing `gradient_checkpointing` to a config initialization is deprecated and will be removed in v5 Transformers. Using `model.gradient_checkpointing_enable()` instead, or if you are using the `Trainer` API, pass `gradient_checkpointing=True` in your `TrainingArguments`.\n",
      "  warnings.warn(\n"
     ]
    }
   ],
   "source": [
    "from transformers import Wav2Vec2Processor, Wav2Vec2ForCTC\n",
    "\n",
    "processor = Wav2Vec2Processor.from_pretrained(\n",
    "    \"nguyenvulebinh/wav2vec2-base-vietnamese-250h\"\n",
    ")\n",
    "model = Wav2Vec2ForCTC.from_pretrained(\"nguyenvulebinh/wav2vec2-base-vietnamese-250h\")\n"
   ]
  },
  {
   "attachments": {},
   "cell_type": "markdown",
   "metadata": {},
   "source": [
    "# Prepare Dataset"
   ]
  },
  {
   "cell_type": "code",
   "execution_count": 2,
   "metadata": {},
   "outputs": [
    {
     "name": "stderr",
     "output_type": "stream",
     "text": [
      "/home/hoang/.local/lib/python3.10/site-packages/pkg_resources/__init__.py:123: PkgResourcesDeprecationWarning: 1.16.0-unknown is an invalid version and will not be supported in a future release\n",
      "  warnings.warn(\n",
      "/home/hoang/.local/lib/python3.10/site-packages/pkg_resources/__init__.py:123: PkgResourcesDeprecationWarning: 0.1.43ubuntu1 is an invalid version and will not be supported in a future release\n",
      "  warnings.warn(\n",
      "/home/hoang/.local/lib/python3.10/site-packages/pkg_resources/__init__.py:123: PkgResourcesDeprecationWarning: 1.1build1 is an invalid version and will not be supported in a future release\n",
      "  warnings.warn(\n"
     ]
    }
   ],
   "source": [
    "import sys\n",
    "\n",
    "sys.path.append(\"..\")\n",
    "\n",
    "from src.datamodule import WebDatasetConverter, VLSP2020ForPretrainingDataModule\n",
    "\n",
    "\n",
    "def get_dataloader(dataset, batch_size: int = 4):\n",
    "    dtm = VLSP2020ForPretrainingDataModule(\n",
    "        dts, batch_size=batch_size, return_transcript=True\n",
    "    )\n",
    "    dtm.setup()\n",
    "\n",
    "    return dtm.train_dataloader()\n",
    "\n",
    "\n",
    "dts = WebDatasetConverter(\"../data/vlsp2020.tar\").get_dataset()\n",
    "dataloader = get_dataloader(dts, batch_size=2)\n"
   ]
  },
  {
   "attachments": {},
   "cell_type": "markdown",
   "metadata": {},
   "source": [
    "# Inference"
   ]
  },
  {
   "cell_type": "code",
   "execution_count": 3,
   "metadata": {},
   "outputs": [],
   "source": [
    "from typing import Tuple\n",
    "from src.model.modules import Wav2Vec2Processor\n",
    "from src.model import Wav2Vec2PretrainingModule\n",
    "import torch\n",
    "\n",
    "\n",
    "def speech_to_text(waveforms: Tuple[torch.Tensor, ...]):\n",
    "\n",
    "    batched_waveforms, wavelengths = Wav2Vec2Processor()(waveforms)\n",
    "    attention_masks = Wav2Vec2PretrainingModule._compute_attention_mask(wavelengths)\n",
    "\n",
    "    logits = model(batched_waveforms, attention_mask=attention_masks).logits\n",
    "    predicted_ids = torch.argmax(logits, dim=-1)\n",
    "\n",
    "    return processor.batch_decode(predicted_ids)\n"
   ]
  },
  {
   "cell_type": "code",
   "execution_count": 4,
   "metadata": {},
   "outputs": [],
   "source": [
    "import re\n",
    "\n",
    "\n",
    "def levenshtein_distance(source: Tuple[str], target: Tuple[str]):\n",
    "    \"\"\"\n",
    "    Compute the Levenshtein distance between two sequences.\n",
    "    \"\"\"\n",
    "\n",
    "    n, m = len(source), len(target)\n",
    "    if n > m:\n",
    "        # Make sure n <= m, to use O(min(n,m)) space\n",
    "        source, target = target, source\n",
    "        n, m = m, n\n",
    "\n",
    "    current_row = range(n + 1)  # Keep current and previous row, not entire matrix\n",
    "    for i in range(1, m + 1):\n",
    "        previous_row, current_row = current_row, [i] + [0] * n\n",
    "        for j in range(1, n + 1):\n",
    "            add, delete, change = (\n",
    "                previous_row[j] + 1,\n",
    "                current_row[j - 1] + 1,\n",
    "                previous_row[j - 1],\n",
    "            )\n",
    "            if source[j - 1] != target[i - 1]:\n",
    "                change += 1\n",
    "            current_row[j] = min(add, delete, change)\n",
    "\n",
    "    distance = current_row[n]\n",
    "\n",
    "    del current_row\n",
    "    del previous_row\n",
    "    \n",
    "    return distance\n",
    "\n",
    "\n",
    "def word_error_rate(prediction: str, transcript: str):\n",
    "    pattern = r\"\\W+\"\n",
    "\n",
    "    prediction = re.split(pattern, prediction)\n",
    "    transcript = re.split(pattern, transcript)\n",
    "\n",
    "    return levenshtein_distance(prediction, transcript) / len(transcript)\n",
    "\n",
    "\n",
    "def character_error_rate(prediction: str, transcript: str):\n",
    "    return levenshtein_distance(prediction, transcript) / len(transcript)\n"
   ]
  },
  {
   "cell_type": "code",
   "execution_count": 7,
   "metadata": {},
   "outputs": [
    {
     "name": "stdout",
     "output_type": "stream",
     "text": [
      "Character error rate: 25.47%\n",
      "Word error rate: 32.33%\n"
     ]
    }
   ],
   "source": [
    "cer, wer = 0, 0\n",
    "n_items = 0\n",
    "\n",
    "for batch_idx, batch in enumerate(dataloader):\n",
    "    transcripts, waveforms = batch\n",
    "    predicted_transcripts = speech_to_text(waveforms)\n",
    "\n",
    "    for predicted_transcript, transcript in zip(predicted_transcripts, transcripts):\n",
    "        cer += character_error_rate(predicted_transcript, transcript)\n",
    "        wer += word_error_rate(predicted_transcript, transcript)\n",
    "\n",
    "        n_items += 1\n",
    "\n",
    "    if batch_idx > 100:\n",
    "        break\n",
    "\n",
    "    del transcript\n",
    "    del waveforms\n",
    "    del predicted_transcript\n",
    "    del batch\n",
    "\n",
    "cer /= n_items\n",
    "wer /= n_items\n",
    "\n",
    "print(f\"Character error rate: {cer:.2%}\")\n",
    "print(f\"Word error rate: {wer:.2%}\")\n"
   ]
  },
  {
   "cell_type": "code",
   "execution_count": 12,
   "metadata": {},
   "outputs": [
    {
     "data": {
      "text/html": [
       "<div>\n",
       "<style scoped>\n",
       "    .dataframe tbody tr th:only-of-type {\n",
       "        vertical-align: middle;\n",
       "    }\n",
       "\n",
       "    .dataframe tbody tr th {\n",
       "        vertical-align: top;\n",
       "    }\n",
       "\n",
       "    .dataframe thead th {\n",
       "        text-align: right;\n",
       "    }\n",
       "</style>\n",
       "<table border=\"1\" class=\"dataframe\">\n",
       "  <thead>\n",
       "    <tr style=\"text-align: right;\">\n",
       "      <th></th>\n",
       "      <th>transcript</th>\n",
       "      <th>predicted_transcript</th>\n",
       "    </tr>\n",
       "  </thead>\n",
       "  <tbody>\n",
       "    <tr>\n",
       "      <th>0</th>\n",
       "      <td>trước khi bắt đầu khởi hành hiển dự định đạp xe vào bốn giờ ba mươi phút sáng hàng ngày</td>\n",
       "      <td>trước khi bắt đầu khởi hành hiện dự định đạp xe và bốn giờ ba mươi phút sáng hằng ngày</td>\n",
       "    </tr>\n",
       "    <tr>\n",
       "      <th>1</th>\n",
       "      <td>&lt;unk&gt; ngon</td>\n",
       "      <td>ớnđyvn</td>\n",
       "    </tr>\n",
       "    <tr>\n",
       "      <th>2</th>\n",
       "      <td>xin được cảm ơn những chia sẻ đầy cảm xúc của các khách mời đã giúp cho chúng tôi những người thuộc nhiều thế hệ được lớn lên trong hòa bình thêm trân trọng những mất mát hi sinh của thế hệ đi trước để có được một việt nam hòa bình giúp cho chúng tôi</td>\n",
       "      <td>xin được cảm ơn những chia sẻ đầy cảm xúc của các khách mời đã giúp cho chúng tôi những người thuộc nhiều thế hệ được lớn lên trong hòa bình thêm trân trọng những mất mát hi sinh của thấy đi trước để có được một việt nam hòa bình giúp cho chúng tôi</td>\n",
       "    </tr>\n",
       "    <tr>\n",
       "      <th>3</th>\n",
       "      <td>nguyễn trang đem thi thể chúa trịnh nộp cho quân tây sơn</td>\n",
       "      <td>nguyễn trang đem thi thể chúa trịnh nộp cho quân tây sơn</td>\n",
       "    </tr>\n",
       "    <tr>\n",
       "      <th>4</th>\n",
       "      <td>theo đó chủ mưu trong vụ án là bị cáo nguyễn minh hùng bị tuyên mười bảy năm tù với vai trò chỉ</td>\n",
       "      <td>theo đó chủ mưu trong vụ án là bị cáo nguyễn minh hùng bị tuyên mười bảy năm tù với vai trò chỉ</td>\n",
       "    </tr>\n",
       "    <tr>\n",
       "      <th>5</th>\n",
       "      <td>bây giờ sẽ là phần thi cuối cùng và cũng là &lt;unk&gt;</td>\n",
       "      <td>bây giờ sẽ là phần thi cuối cùng và cũn là</td>\n",
       "    </tr>\n",
       "    <tr>\n",
       "      <th>6</th>\n",
       "      <td>đồng thời lại nghe theo kiến nghị của quân sư ông cho đúc trở lại tiền ngũ thù khôi phục lưu thông tiền tệ trong địa bàn đem đến tiện lợi cho sinh hoạt của nhân dân không còn phải dùng xếp vải làm phương tiện thanh toán</td>\n",
       "      <td>đồng thời lại nghe theo kýn nghị của quân sư ông cho đúc trở lại tiền ngủ thù khôi phục lưu thông tiền tệ trong địa bàn đem đến tiền lợi cho sinh hoạt của nhân dân không còn phải dùng xếp vãi làm phương tiện thanh toán</td>\n",
       "    </tr>\n",
       "    <tr>\n",
       "      <th>7</th>\n",
       "      <td>chính quyền của tổng thống trăm nhằm cắt giảm các chương trình trợ cấp an sinh xã hội</td>\n",
       "      <td>chính quyền của tổng thống trămp nhắm cắt giảm các chương trình trơa cấp an sinh xã hộicc</td>\n",
       "    </tr>\n",
       "    <tr>\n",
       "      <th>8</th>\n",
       "      <td>văn học việt nam là sự tích hợp từ hai dòng văn học dân gian và văn học viết của những người dùng tiếng việt</td>\n",
       "      <td>văn học việt nam là sự tích hợp từ hai dòng văn học dân gian và văn học viết của những người dùng tiếng việt</td>\n",
       "    </tr>\n",
       "    <tr>\n",
       "      <th>9</th>\n",
       "      <td>ui tình</td>\n",
       "      <td>ừừừ</td>\n",
       "    </tr>\n",
       "    <tr>\n",
       "      <th>10</th>\n",
       "      <td>dân trí sẽ tiếp tục cập nhật diễn biến của buổi họp báo này</td>\n",
       "      <td>dân chí sẽ tiếp tục cập nhật diễn biến của buổi họp báo nàys</td>\n",
       "    </tr>\n",
       "    <tr>\n",
       "      <th>11</th>\n",
       "      <td>và đặc biệt là các bạn sẽ không thích các cuộc tán gẫu vặt tại vì bạn cảm thấy mệt mỏi khi phải duy trì một cuộc nói chuyện thực ra người hướng nội cũng có nhiều tuýp hướng nội khác nhau nhá</td>\n",
       "      <td>nhóm và đặc biệt là các bạn sại không thích những cuộc tán gỗ vặt tại vì bạn cảm thấy mệt mỏi khi phải duy trì một  cuộc nói chuyện thực ra người hướng nội cũng có nhiều cái tuýp hướng nội khác nhau</td>\n",
       "    </tr>\n",
       "  </tbody>\n",
       "</table>\n",
       "</div>"
      ],
      "text/plain": [
       "                                                                                                                                                                                                                                                    transcript  \\\n",
       "0                                                                                                                                                                      trước khi bắt đầu khởi hành hiển dự định đạp xe vào bốn giờ ba mươi phút sáng hàng ngày   \n",
       "1                                                                                                                                                                                                                                                   <unk> ngon   \n",
       "2   xin được cảm ơn những chia sẻ đầy cảm xúc của các khách mời đã giúp cho chúng tôi những người thuộc nhiều thế hệ được lớn lên trong hòa bình thêm trân trọng những mất mát hi sinh của thế hệ đi trước để có được một việt nam hòa bình giúp cho chúng tôi   \n",
       "3                                                                                                                                                                                                     nguyễn trang đem thi thể chúa trịnh nộp cho quân tây sơn   \n",
       "4                                                                                                                                                              theo đó chủ mưu trong vụ án là bị cáo nguyễn minh hùng bị tuyên mười bảy năm tù với vai trò chỉ   \n",
       "5                                                                                                                                                                                                            bây giờ sẽ là phần thi cuối cùng và cũng là <unk>   \n",
       "6                                  đồng thời lại nghe theo kiến nghị của quân sư ông cho đúc trở lại tiền ngũ thù khôi phục lưu thông tiền tệ trong địa bàn đem đến tiện lợi cho sinh hoạt của nhân dân không còn phải dùng xếp vải làm phương tiện thanh toán   \n",
       "7                                                                                                                                                                        chính quyền của tổng thống trăm nhằm cắt giảm các chương trình trợ cấp an sinh xã hội   \n",
       "8                                                                                                                                                 văn học việt nam là sự tích hợp từ hai dòng văn học dân gian và văn học viết của những người dùng tiếng việt   \n",
       "9                                                                                                                                                                                                                                                      ui tình   \n",
       "10                                                                                                                                                                                                 dân trí sẽ tiếp tục cập nhật diễn biến của buổi họp báo này   \n",
       "11                                                              và đặc biệt là các bạn sẽ không thích các cuộc tán gẫu vặt tại vì bạn cảm thấy mệt mỏi khi phải duy trì một cuộc nói chuyện thực ra người hướng nội cũng có nhiều tuýp hướng nội khác nhau nhá   \n",
       "\n",
       "                                                                                                                                                                                                                                        predicted_transcript  \n",
       "0                                                                                                                                                                     trước khi bắt đầu khởi hành hiện dự định đạp xe và bốn giờ ba mươi phút sáng hằng ngày  \n",
       "1                                                                                                                                                                                                                                                     ớnđyvn  \n",
       "2   xin được cảm ơn những chia sẻ đầy cảm xúc của các khách mời đã giúp cho chúng tôi những người thuộc nhiều thế hệ được lớn lên trong hòa bình thêm trân trọng những mất mát hi sinh của thấy đi trước để có được một việt nam hòa bình giúp cho chúng tôi  \n",
       "3                                                                                                                                                                                                   nguyễn trang đem thi thể chúa trịnh nộp cho quân tây sơn  \n",
       "4                                                                                                                                                            theo đó chủ mưu trong vụ án là bị cáo nguyễn minh hùng bị tuyên mười bảy năm tù với vai trò chỉ  \n",
       "5                                                                                                                                                                                                                 bây giờ sẽ là phần thi cuối cùng và cũn là  \n",
       "6                                 đồng thời lại nghe theo kýn nghị của quân sư ông cho đúc trở lại tiền ngủ thù khôi phục lưu thông tiền tệ trong địa bàn đem đến tiền lợi cho sinh hoạt của nhân dân không còn phải dùng xếp vãi làm phương tiện thanh toán  \n",
       "7                                                                                                                                                                  chính quyền của tổng thống trămp nhắm cắt giảm các chương trình trơa cấp an sinh xã hộicc  \n",
       "8                                                                                                                                               văn học việt nam là sự tích hợp từ hai dòng văn học dân gian và văn học viết của những người dùng tiếng việt  \n",
       "9                                                                                                                                                                                                                                                        ừừừ  \n",
       "10                                                                                                                                                                                              dân chí sẽ tiếp tục cập nhật diễn biến của buổi họp báo nàys  \n",
       "11                                                    nhóm và đặc biệt là các bạn sại không thích những cuộc tán gỗ vặt tại vì bạn cảm thấy mệt mỏi khi phải duy trì một  cuộc nói chuyện thực ra người hướng nội cũng có nhiều cái tuýp hướng nội khác nhau  "
      ]
     },
     "execution_count": 12,
     "metadata": {},
     "output_type": "execute_result"
    }
   ],
   "source": [
    "import pandas as pd\n",
    "\n",
    "m = []\n",
    "\n",
    "for batch_idx, batch in enumerate(dataloader):\n",
    "    if batch_idx > 5:\n",
    "        break\n",
    "\n",
    "    transcripts, waveforms = batch\n",
    "    predicted_transcripts = speech_to_text(waveforms)\n",
    "\n",
    "    for predicted_transcript, transcript in zip(predicted_transcripts, transcripts):\n",
    "        m.append(\n",
    "            {\n",
    "                \"transcript\": transcript,\n",
    "                \"predicted_transcript\": predicted_transcript,\n",
    "            }\n",
    "        )\n",
    "\n",
    "\n",
    "pd.set_option(\"display.max_colwidth\", None)\n",
    "pd.DataFrame.from_dict(m)\n"
   ]
  }
 ],
 "metadata": {
  "kernelspec": {
   "display_name": "Python 3",
   "language": "python",
   "name": "python3"
  },
  "language_info": {
   "codemirror_mode": {
    "name": "ipython",
    "version": 3
   },
   "file_extension": ".py",
   "mimetype": "text/x-python",
   "name": "python",
   "nbconvert_exporter": "python",
   "pygments_lexer": "ipython3",
   "version": "3.10.6"
  },
  "orig_nbformat": 4,
  "vscode": {
   "interpreter": {
    "hash": "916dbcbb3f70747c44a77c7bcd40155683ae19c65e1c03b4aa3499c5328201f1"
   }
  }
 },
 "nbformat": 4,
 "nbformat_minor": 2
}
